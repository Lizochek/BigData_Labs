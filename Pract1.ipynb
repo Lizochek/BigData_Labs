{
  "nbformat": 4,
  "nbformat_minor": 0,
  "metadata": {
    "colab": {
      "provenance": []
    },
    "kernelspec": {
      "name": "python3",
      "display_name": "Python 3"
    },
    "language_info": {
      "name": "python"
    }
  },
  "cells": [
    {
      "cell_type": "markdown",
      "source": [
        "2. Площадь фигуры:"
      ],
      "metadata": {
        "id": "6ZF-7yXLGoFk"
      }
    },
    {
      "cell_type": "code",
      "execution_count": null,
      "metadata": {
        "id": "v8DtuSvdMd3P"
      },
      "outputs": [],
      "source": [
        "objects = [\"circle\", \"rectangle\", \"triangle\"]\n",
        "params = {\"r\":1, \"a\":2,\"b\":2,\"base\":3,\"height\":2}\n",
        "answ = {}"
      ]
    },
    {
      "cell_type": "code",
      "source": [
        "def find_area(objects,params):\n",
        "  for obj in objects:\n",
        "    if obj == \"circle\":\n",
        "      area = 3,14*params[\"r\"]**2\n",
        "      answ[\"circle\"] = area\n",
        "    if obj == \"rectangle\":\n",
        "      area = params[\"a\"]*params[\"b\"]\n",
        "      answ[\"rectangle\"] = area\n",
        "    if obj == \"triangle\":\n",
        "      area = params[\"base\"]*params[\"height\"]/2\n",
        "      answ[\"triangle\"] = area\n",
        "  print(answ)\n",
        "  "
      ],
      "metadata": {
        "id": "-udar-rDMtYq"
      },
      "execution_count": null,
      "outputs": []
    },
    {
      "cell_type": "code",
      "source": [
        "find_area(objects, params)"
      ],
      "metadata": {
        "colab": {
          "base_uri": "https://localhost:8080/"
        },
        "id": "L_87XaykOOfh",
        "outputId": "ddcd3632-cb85-461f-ba0b-8b2db92f3f5a"
      },
      "execution_count": null,
      "outputs": [
        {
          "output_type": "stream",
          "name": "stdout",
          "text": [
            "{'circle': (3, 14), 'rectangle': 4, 'triangle': 3.0}\n"
          ]
        }
      ]
    },
    {
      "cell_type": "markdown",
      "source": [
        "3. Переопределение"
      ],
      "metadata": {
        "id": "e6WMCqtjG2Tg"
      }
    },
    {
      "cell_type": "code",
      "source": [
        "a = int(input())\n",
        "b = int(input())\n",
        "operation = str(input())"
      ],
      "metadata": {
        "id": "6KOXgdYnQU-4",
        "colab": {
          "base_uri": "https://localhost:8080/"
        },
        "outputId": "d7f79021-481c-4be7-96ae-f55e6a0e52ce"
      },
      "execution_count": null,
      "outputs": [
        {
          "name": "stdout",
          "output_type": "stream",
          "text": [
            "9\n",
            "3\n",
            "//\n"
          ]
        }
      ]
    },
    {
      "cell_type": "code",
      "source": [
        "def calculate(a,b,operation):\n",
        "  if operation == \"+\":\n",
        "    return a + b\n",
        "  if operation == \"-\":\n",
        "    return a - b\n",
        "  if operation == \"/\":\n",
        "    return a / b\n",
        "  if operation == \"//\":\n",
        "    return a // b\n",
        "  if operation == \"abs\":\n",
        "    return abs(a - b)\n",
        "  if operation == \"pow\":\n",
        "    return a**b"
      ],
      "metadata": {
        "id": "bCFSn-BGQQFB"
      },
      "execution_count": null,
      "outputs": []
    },
    {
      "cell_type": "code",
      "source": [
        "print(calculate(a,b,operation))"
      ],
      "metadata": {
        "colab": {
          "base_uri": "https://localhost:8080/"
        },
        "id": "wtDo_izGRLRB",
        "outputId": "83b0fbfe-0e64-47da-b2e0-e35a3c2fe8b1"
      },
      "execution_count": null,
      "outputs": [
        {
          "output_type": "stream",
          "name": "stdout",
          "text": [
            "3\n"
          ]
        }
      ]
    },
    {
      "cell_type": "markdown",
      "source": [
        "4. площадь треугольника по формуле Герона:"
      ],
      "metadata": {
        "id": "uflt8AiIG9fX"
      }
    },
    {
      "cell_type": "code",
      "source": [
        "a = int(input())\n",
        "b = int(input())\n",
        "c = int(input())"
      ],
      "metadata": {
        "id": "l9hf9M7-RkI9",
        "colab": {
          "base_uri": "https://localhost:8080/"
        },
        "outputId": "bc4c1910-3b14-4272-d850-29670ec56b11"
      },
      "execution_count": null,
      "outputs": [
        {
          "name": "stdout",
          "output_type": "stream",
          "text": [
            "3\n",
            "4\n",
            "5\n"
          ]
        }
      ]
    },
    {
      "cell_type": "code",
      "source": [
        "def geron_area(a,b,c):\n",
        "  p = (a+b+c)/2\n",
        "  return (p*(p-a)*(p-b)*(p-c))**(1/2)"
      ],
      "metadata": {
        "id": "iWG3XcgFRV3u"
      },
      "execution_count": null,
      "outputs": []
    },
    {
      "cell_type": "code",
      "source": [
        "print(geron_area(a,b,c))"
      ],
      "metadata": {
        "colab": {
          "base_uri": "https://localhost:8080/"
        },
        "id": "E7J_PLeaR58I",
        "outputId": "8f3f4ab9-3b0f-4d64-d582-ce2b4e7b46c2"
      },
      "execution_count": null,
      "outputs": [
        {
          "output_type": "stream",
          "name": "stdout",
          "text": [
            "6.0\n"
          ]
        }
      ]
    },
    {
      "cell_type": "code",
      "source": [],
      "metadata": {
        "id": "9bZBZFd3Y2Sf"
      },
      "execution_count": null,
      "outputs": []
    },
    {
      "cell_type": "markdown",
      "source": [],
      "metadata": {
        "id": "OlfcyU6lGmT6"
      }
    }
  ]
}